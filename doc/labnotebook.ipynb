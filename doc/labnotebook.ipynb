{
 "cells": [
  {
   "cell_type": "markdown",
   "metadata": {},
   "source": [
    "# Bat gut microbio metagenomic analysis\n",
    "\n",
    "TJ Rogers"
   ]
  },
  {
   "cell_type": "code",
   "execution_count": 2,
   "metadata": {},
   "outputs": [],
   "source": [
    "import pandas as pd"
   ]
  },
  {
   "cell_type": "markdown",
   "metadata": {},
   "source": [
    "## 8-Oct-2024"
   ]
  },
  {
   "cell_type": "markdown",
   "metadata": {},
   "source": [
    "* To do:\n",
    "  - [X] Find good host sequences so that I can remove host reads from the metagenomes.\n",
    "  - [X] Run snakemake workflow to trim reads and retrieve host reference sequences.\n",
    "  - [X] Create script to remove host reads from the fastq files.\n",
    "  - [X] Update the main `README.md` file\n",
    "  - [ ] Check the reference file to see if they all end in \"_mPhyDis1.pri.v3_genomic.fna\". If not, need to figure out how to reference them in the params section of the rule remove_host_reads in `readQC.smk`*"
   ]
  },
  {
   "cell_type": "markdown",
   "metadata": {},
   "source": [
    "### Find good host sequences so that I can remove host reads from the metagenomes."
   ]
  },
  {
   "cell_type": "markdown",
   "metadata": {},
   "source": [
    "Below, I have listed the sample name (host) along with the species name and the accession number for the reference seuquence:"
   ]
  },
  {
   "cell_type": "code",
   "execution_count": 3,
   "metadata": {},
   "outputs": [
    {
     "name": "stdout",
     "output_type": "stream",
     "text": [
      "                  sample                species        accession\n",
      "0  NBS1051F-30-542494038   Pteronotus parnellii  GCA_036768555.1\n",
      "1               NBS1051F   Pteronotus parnellii  GCA_036768555.1\n",
      "2  NBS1079E-30-542494038         Myotis elegans              NaN\n",
      "3  NBS1079E-30-550131958         Myotis elegans              NaN\n",
      "4            080613-8-pd  Phyllostomus discolor  GCA_004126475.3\n",
      "5           080813-19-pd  Phyllostomus discolor  GCA_004126475.3\n",
      "6            080813-7-mc       Mimon crenulatum              NaN\n",
      "7            080913-2-mc       Mimon crenulatum              NaN\n",
      "8            080913-7-ph  Phyllostomus hastatus  GCA_019186645.2\n"
     ]
    }
   ],
   "source": [
    "metadata={'sample': ['NBS1051F-30-542494038','NBS1051F','NBS1079E-30-542494038','NBS1079E-30-550131958','080613-8-pd','080813-19-pd','080813-7-mc','080913-2-mc','080913-7-ph'],\n",
    "          'species': ['Pteronotus parnellii','Pteronotus parnellii','Myotis elegans', 'Myotis elegans','Phyllostomus discolor','Phyllostomus discolor','Mimon crenulatum','Mimon crenulatum','Phyllostomus hastatus'],\n",
    "          'accession': ['GCA_036768555.1','GCA_036768555.1','NaN','NaN','GCA_004126475.3','GCA_004126475.3','NaN','NaN','GCA_019186645.2']}\n",
    "\n",
    "# Create DataFrame\n",
    "metadata = pd.DataFrame(metadata)\n",
    "print(metadata)"
   ]
  },
  {
   "cell_type": "markdown",
   "metadata": {},
   "source": [
    "* I already have the script written to download sequences NCBI, but the genome of some host have not been sequenced and are not found on any data base. For instance, neither Myotis elegans nor Mimon crenulatum have had their genomes sequences.\n",
    "  * However, according to Hurtado and D'Elia-2018, Mimon crenulatum is not an actual species. It is actually a clade that is composed of multiple species. One such species is M. crenulatum keenani. I found that the database 'bat1k' has the genome of M. crenulatum keenani sequenced. So I will retrieve the sequence from there. \n",
    "  * I am currently waiting on bat1k to approve my membership so I can download the sequence data I need."
   ]
  },
  {
   "cell_type": "markdown",
   "metadata": {},
   "source": [
    "### Run snakemake workflow to trim reads and retrieve host reference sequences."
   ]
  },
  {
   "cell_type": "markdown",
   "metadata": {},
   "source": [
    "\n",
    "* JobID: 11161798:\n",
    "  * Apparently this version of snakemake can not take in bash script in the arguement \"script:\". I got the following error:\n",
    "    * \"Unsupported script: Expecting either Python (.py), R (.R), RMarkdown (.Rmd) or Julia (.jl) script.\"\n",
    "\n",
    "  * I added the script path to \"params\" and changed the argument \"script\" to \"shell\". Going to try again."
   ]
  },
  {
   "cell_type": "markdown",
   "metadata": {},
   "source": [
    "* JobID: 11161965\n",
    "  * I made a mistake by giving the same output read file for the fr1 and fr2 slot in the in the shell section of the clean_raw_reads rule in the file readQC.smk. \n",
    "  * Made the required change and running again."
   ]
  },
  {
   "cell_type": "markdown",
   "metadata": {},
   "source": [
    "* JobID: 11162659\n",
    "  * For most of the samples, the adapter and phix removal worked. However, for some reason the temp fq file for sample 080913-2-mc isnt being created correctly or some other error is happening with it as snakemake is removing it and faulting out.\n",
    "  * I am troubleshooting now:\n",
    "    * Going to set up the rule to where it will create a log so I can use that to hopefully troubleshoot this sample."
   ]
  },
  {
   "cell_type": "markdown",
   "metadata": {},
   "source": [
    "* JobID: 11163418\n",
    "  * I noticed that I was having the script place the trimmed reads in the 'tmp' directory. I have changed that in the script. \n",
    "  * Once this job has stopped I need to:\n",
    "    - [x] mv the trimmed fq files to the clean_reads directory.\n",
    "  * This job failed as well for the same reason as the previous job. It said that line 23 in `trimming.sh` was not a command. Problem is I had already modified that script and was unable to figure out what line it was talking about. I am trying to run again to see what will happen."
   ]
  },
  {
   "cell_type": "markdown",
   "metadata": {},
   "source": [
    "* JobID: 11163492\n",
    "  * Job completed without any issues as of 09-Oct-2024"
   ]
  },
  {
   "cell_type": "markdown",
   "metadata": {},
   "source": [
    "### Create script to remove host reads from the fastq files."
   ]
  },
  {
   "cell_type": "markdown",
   "metadata": {},
   "source": [
    "* While I am currently creating this script, it will not be able to be tested until bat1k has given me access to their data base.\n",
    "  * Script name: `host_read_removal.sh`\n",
    "  * path: `workflow/scripts/`"
   ]
  },
  {
   "cell_type": "markdown",
   "metadata": {},
   "source": [
    "## 9-Oct-2024"
   ]
  },
  {
   "cell_type": "markdown",
   "metadata": {},
   "source": [
    "* To do:\n",
    "  - [X] Check email to see if Bat1k has granted you access to download their sequences.\n",
    "  - [X] Find missing host reference sequences or good alternatives. \n",
    "  - [X] Check status of JobID 11163492 and update on previous day's notes.\n",
    "  - [ ] Read lit papers in reference to bats, bat microbiomes, and HiC ananysis.\n",
    "  - [ ] Write script for assembling reads.\n",
    "  - [ ] Make needed adjustments to the `host_read_removal.sh`.\n",
    "  - [ ] Update the main `README.md` file\n",
    "  - [ ] Check the reference file to see if they all end in \"_mPhyDis1.pri.v3_genomic.fna\". If not, need to figure out how to reference them in the params section of the rule remove_host_reads in `readQC.smk`"
   ]
  },
  {
   "cell_type": "markdown",
   "metadata": {},
   "source": [
    "### Check email to see if Bat1k has granted you access to download their sequences."
   ]
  },
  {
   "cell_type": "markdown",
   "metadata": {},
   "source": [
    "* Bat1k has not sent me an update as of yet. I will wait until this afternoon. If they have not gotten a hold of me by that time, I will reach out to them again.\n",
    "  * I found replacement reference sequences on NCBI and no longer need access to Bat1k."
   ]
  },
  {
   "cell_type": "markdown",
   "metadata": {},
   "source": [
    "### Find missing host reference sequences or good alternatives. \n"
   ]
  },
  {
   "cell_type": "markdown",
   "metadata": {},
   "source": [
    "* Myotis elegans does not have a whole genome sequences. However, Stadelmann et al. 2007 and Moratell et al. 2013 suggest that M. elegans closest relatives are (in order of closest to least) M. simus, M. riparius, M. ruber, and M. keaysi. This gives me some options to look for. I will check the NCBI data base to see if there are seuqences for any of these to use them as a reference genome. If not, I will work my way further down the tree until i get a hit.\n",
    "  * None of the above listed options have had their genome sequenced. Howerever, I did find two genomes from members within the same clade: M. yumanesis and M. vivesi. M. vivesi is larger and eats fish as well as insects, whereas M. yumanesis seems to be more like M. elegans in size and diet. So I am going to use M. yumanesis as a stand in.\n",
    "* Mimon crenulatum (Gardnerycteris crenulatum) does not have a whole genome sequenced. However, it turns out that Phyllostomus discolor is a close relative of M. crenulatum (Hurtado et. al, 2018). So I will use it as a reference genome."
   ]
  },
  {
   "cell_type": "markdown",
   "metadata": {},
   "source": [
    "* Below, I have updated the metatable to reflect new additions to the reference sequences:"
   ]
  },
  {
   "cell_type": "code",
   "execution_count": 5,
   "metadata": {},
   "outputs": [
    {
     "data": {
      "text/html": [
       "<div>\n",
       "<style scoped>\n",
       "    .dataframe tbody tr th:only-of-type {\n",
       "        vertical-align: middle;\n",
       "    }\n",
       "\n",
       "    .dataframe tbody tr th {\n",
       "        vertical-align: top;\n",
       "    }\n",
       "\n",
       "    .dataframe thead th {\n",
       "        text-align: right;\n",
       "    }\n",
       "</style>\n",
       "<table border=\"1\" class=\"dataframe\">\n",
       "  <thead>\n",
       "    <tr style=\"text-align: right;\">\n",
       "      <th></th>\n",
       "      <th>sample</th>\n",
       "      <th>species</th>\n",
       "      <th>accession</th>\n",
       "      <th>substitute_species</th>\n",
       "    </tr>\n",
       "  </thead>\n",
       "  <tbody>\n",
       "    <tr>\n",
       "      <th>0</th>\n",
       "      <td>NBS1051F-30-542494038</td>\n",
       "      <td>Pteronotus parnellii</td>\n",
       "      <td>GCA_036768555.1</td>\n",
       "      <td>none</td>\n",
       "    </tr>\n",
       "    <tr>\n",
       "      <th>1</th>\n",
       "      <td>NBS1051F</td>\n",
       "      <td>Pteronotus parnellii</td>\n",
       "      <td>GCA_036768555.1</td>\n",
       "      <td>none</td>\n",
       "    </tr>\n",
       "    <tr>\n",
       "      <th>2</th>\n",
       "      <td>NBS1079E-30-542494038</td>\n",
       "      <td>Myotis elegans</td>\n",
       "      <td>GCA_028538775.1</td>\n",
       "      <td>Myotis yumanensis</td>\n",
       "    </tr>\n",
       "    <tr>\n",
       "      <th>3</th>\n",
       "      <td>NBS1079E-30-550131958</td>\n",
       "      <td>Myotis elegans</td>\n",
       "      <td>GCA_028538775.1</td>\n",
       "      <td>Myotis yumanensis</td>\n",
       "    </tr>\n",
       "    <tr>\n",
       "      <th>4</th>\n",
       "      <td>080613-8-pd</td>\n",
       "      <td>Phyllostomus discolor</td>\n",
       "      <td>GCA_004126475.3</td>\n",
       "      <td>none</td>\n",
       "    </tr>\n",
       "    <tr>\n",
       "      <th>5</th>\n",
       "      <td>080813-19-pd</td>\n",
       "      <td>Phyllostomus discolor</td>\n",
       "      <td>GCA_004126475.3</td>\n",
       "      <td>none</td>\n",
       "    </tr>\n",
       "    <tr>\n",
       "      <th>6</th>\n",
       "      <td>080813-7-mc</td>\n",
       "      <td>Mimon crenulatum</td>\n",
       "      <td>GCA_004126475.3</td>\n",
       "      <td>Phyllostomus discolor</td>\n",
       "    </tr>\n",
       "    <tr>\n",
       "      <th>7</th>\n",
       "      <td>080913-2-mc</td>\n",
       "      <td>Mimon crenulatum</td>\n",
       "      <td>GCA_004126475.3</td>\n",
       "      <td>Phyllostomus discolor</td>\n",
       "    </tr>\n",
       "    <tr>\n",
       "      <th>8</th>\n",
       "      <td>080913-7-ph</td>\n",
       "      <td>Phyllostomus hastatus</td>\n",
       "      <td>GCA_019186645.2</td>\n",
       "      <td>none</td>\n",
       "    </tr>\n",
       "  </tbody>\n",
       "</table>\n",
       "</div>"
      ],
      "text/plain": [
       "                  sample                species        accession  \\\n",
       "0  NBS1051F-30-542494038   Pteronotus parnellii  GCA_036768555.1   \n",
       "1               NBS1051F   Pteronotus parnellii  GCA_036768555.1   \n",
       "2  NBS1079E-30-542494038         Myotis elegans  GCA_028538775.1   \n",
       "3  NBS1079E-30-550131958         Myotis elegans  GCA_028538775.1   \n",
       "4            080613-8-pd  Phyllostomus discolor  GCA_004126475.3   \n",
       "5           080813-19-pd  Phyllostomus discolor  GCA_004126475.3   \n",
       "6            080813-7-mc       Mimon crenulatum  GCA_004126475.3   \n",
       "7            080913-2-mc       Mimon crenulatum  GCA_004126475.3   \n",
       "8            080913-7-ph  Phyllostomus hastatus  GCA_019186645.2   \n",
       "\n",
       "      substitute_species  \n",
       "0                   none  \n",
       "1                   none  \n",
       "2      Myotis yumanensis  \n",
       "3      Myotis yumanensis  \n",
       "4                   none  \n",
       "5                   none  \n",
       "6  Phyllostomus discolor  \n",
       "7  Phyllostomus discolor  \n",
       "8                   none  "
      ]
     },
     "execution_count": 5,
     "metadata": {},
     "output_type": "execute_result"
    }
   ],
   "source": [
    "metadata2={'sample': ['NBS1051F-30-542494038','NBS1051F','NBS1079E-30-542494038','NBS1079E-30-550131958','080613-8-pd','080813-19-pd','080813-7-mc','080913-2-mc','080913-7-ph'],\n",
    "          'species': ['Pteronotus parnellii','Pteronotus parnellii','Myotis elegans', 'Myotis elegans','Phyllostomus discolor','Phyllostomus discolor','Mimon crenulatum','Mimon crenulatum','Phyllostomus hastatus'],\n",
    "          'accession': ['GCA_036768555.1','GCA_036768555.1','GCA_028538775.1','GCA_028538775.1','GCA_004126475.3','GCA_004126475.3','GCA_004126475.3','GCA_004126475.3','GCA_019186645.2'],\n",
    "          'substitute_species': ['none','none','Myotis yumanensis','Myotis yumanensis','none','none','Phyllostomus discolor','Phyllostomus discolor','none']}\n",
    "\n",
    "# Create DataFrame\n",
    "metadata2 = pd.DataFrame(metadata2)\n",
    "metadata2"
   ]
  },
  {
   "cell_type": "markdown",
   "metadata": {},
   "source": [
    "### Check status of JobID 11163492 and update on previous day's notes."
   ]
  },
  {
   "cell_type": "markdown",
   "metadata": {},
   "source": [
    "* Job is complete. References have been downloaded. Only issue is that I did not inlcude a command in the script to unzip the .zip file. Updating and running that portion again."
   ]
  },
  {
   "cell_type": "markdown",
   "metadata": {},
   "source": [
    "* JobID:11188202\n",
    "  * This job failed. Not sure what the issue was. But I have split the rule 'get_host_references' into two: 'get_host_references' and 'decompress_references'"
   ]
  },
  {
   "cell_type": "markdown",
   "metadata": {},
   "source": [
    "* JobID: 11188332\n",
    "  * Job complete. Now to test if the decompress_references rule works. First, I will need to unzip the ncbi file to see what the common file path is."
   ]
  },
  {
   "cell_type": "markdown",
   "metadata": {},
   "source": [
    "* JobID: 11188819 (Testing unzip on ncbi reference file)"
   ]
  }
 ],
 "metadata": {
  "kernelspec": {
   "display_name": "python_work",
   "language": "python",
   "name": "python3"
  },
  "language_info": {
   "codemirror_mode": {
    "name": "ipython",
    "version": 3
   },
   "file_extension": ".py",
   "mimetype": "text/x-python",
   "name": "python",
   "nbconvert_exporter": "python",
   "pygments_lexer": "ipython3",
   "version": "3.12.2"
  }
 },
 "nbformat": 4,
 "nbformat_minor": 2
}
