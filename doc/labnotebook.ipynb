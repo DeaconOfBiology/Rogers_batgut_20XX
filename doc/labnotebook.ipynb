{
 "cells": [
  {
   "cell_type": "markdown",
   "metadata": {},
   "source": [
    "# Bat gut microbio metagenomic analysis\n",
    "\n",
    "TJ Rogers"
   ]
  },
  {
   "cell_type": "code",
   "execution_count": 2,
   "metadata": {},
   "outputs": [],
   "source": [
    "import pandas as pd"
   ]
  },
  {
   "cell_type": "markdown",
   "metadata": {},
   "source": [
    "## 8-Oct-2024"
   ]
  },
  {
   "cell_type": "markdown",
   "metadata": {},
   "source": [
    "* To do:\n",
    "  - [ ] Find good host sequences so that I can remove host reads from the metagenomes. \n",
    "  - [ ] Run snakemake workflow to trim reads and retrieve host reference sequences.\n",
    "  - [ ] Create script to remove host reads from the fastq files."
   ]
  },
  {
   "cell_type": "markdown",
   "metadata": {},
   "source": [
    "### Find good host sequences so that I can remove host reads from the metagenomes."
   ]
  },
  {
   "cell_type": "markdown",
   "metadata": {},
   "source": [
    "Below, I have listed the sample name (host) along with the species name and the accession number for the reference seuquence:"
   ]
  },
  {
   "cell_type": "code",
   "execution_count": 3,
   "metadata": {},
   "outputs": [
    {
     "name": "stdout",
     "output_type": "stream",
     "text": [
      "                  sample                species        accession\n",
      "0  NBS1051F-30-542494038   Pteronotus parnellii  GCA_036768555.1\n",
      "1               NBS1051F   Pteronotus parnellii  GCA_036768555.1\n",
      "2  NBS1079E-30-542494038         Myotis elegans              NaN\n",
      "3  NBS1079E-30-550131958         Myotis elegans              NaN\n",
      "4            080613-8-pd  Phyllostomus discolor  GCA_004126475.3\n",
      "5           080813-19-pd  Phyllostomus discolor  GCA_004126475.3\n",
      "6            080813-7-mc       Mimon crenulatum              NaN\n",
      "7            080913-2-mc       Mimon crenulatum              NaN\n",
      "8            080913-7-ph  Phyllostomus hastatus  GCA_019186645.2\n"
     ]
    }
   ],
   "source": [
    "metadata={'sample': ['NBS1051F-30-542494038','NBS1051F','NBS1079E-30-542494038','NBS1079E-30-550131958','080613-8-pd','080813-19-pd','080813-7-mc','080913-2-mc','080913-7-ph'],\n",
    "          'species': ['Pteronotus parnellii','Pteronotus parnellii','Myotis elegans', 'Myotis elegans','Phyllostomus discolor','Phyllostomus discolor','Mimon crenulatum','Mimon crenulatum','Phyllostomus hastatus'],\n",
    "          'accession': ['GCA_036768555.1','GCA_036768555.1','NaN','NaN','GCA_004126475.3','GCA_004126475.3','NaN','NaN','GCA_019186645.2']}\n",
    "\n",
    "# Create DataFrame\n",
    "metadata = pd.DataFrame(metadata)\n",
    "print(metadata)"
   ]
  },
  {
   "cell_type": "markdown",
   "metadata": {},
   "source": [
    "* I already have the script written to download sequences NCBI, but the genome of some host have not been sequenced and are not found on any data base. For instance, neither Myotis elegans nor Mimon crenulatum have had their genomes sequences.\n",
    "  * However, according to ****** Mimon crenulatum is not an actual species. It is actually a clade that is composed of multiple species. One such species is M. crenulatum keenani. I found that the database 'bat1k' has the genome of M. crenulatum keenani sequenced. So I will retrieve the sequence from there. \n",
    "  * I am currently waiting on bat1k to approve my membership so I can download the sequence data I need."
   ]
  },
  {
   "cell_type": "markdown",
   "metadata": {},
   "source": [
    "Below, I have updated the table to reflect this addition as well as added a column to identify where each genome will be taken from:"
   ]
  },
  {
   "cell_type": "code",
   "execution_count": 4,
   "metadata": {},
   "outputs": [
    {
     "name": "stdout",
     "output_type": "stream",
     "text": [
      "                  sample                species        accession\n",
      "0  NBS1051F-30-542494038   Pteronotus parnellii  GCA_036768555.1\n",
      "1               NBS1051F   Pteronotus parnellii  GCA_036768555.1\n",
      "2  NBS1079E-30-542494038         Myotis elegans              NaN\n",
      "3  NBS1079E-30-550131958         Myotis elegans              NaN\n",
      "4            080613-8-pd  Phyllostomus discolor  GCA_004126475.3\n",
      "5           080813-19-pd  Phyllostomus discolor  GCA_004126475.3\n",
      "6            080813-7-mc       Mimon crenulatum              NaN\n",
      "7            080913-2-mc       Mimon crenulatum              NaN\n",
      "8            080913-7-ph  Phyllostomus hastatus  GCA_019186645.2\n"
     ]
    }
   ],
   "source": [
    "metadata_update={'sample': ['NBS1051F-30-542494038','NBS1051F','NBS1079E-30-542494038','NBS1079E-30-550131958','080613-8-pd','080813-19-pd','080813-7-mc','080913-2-mc','080913-7-ph'],\n",
    "          'species': ['Pteronotus parnellii','Pteronotus parnellii','Myotis elegans', 'Myotis elegans','Phyllostomus discolor','Phyllostomus discolor','Mimon crenulatum','Mimon crenulatum','Phyllostomus hastatus'],\n",
    "          'accession': ['GCA_036768555.1','GCA_036768555.1','NaN','NaN','GCA_004126475.3','GCA_004126475.3','NaN','NaN','GCA_019186645.2']}\n",
    "\n",
    "# Create DataFrame\n",
    "metadata_update = pd.DataFrame(metadata_update)\n",
    "print(metadata_update)"
   ]
  },
  {
   "cell_type": "markdown",
   "metadata": {},
   "source": [
    "### Run snakemake workflow to trim reads and retrieve host reference sequences."
   ]
  },
  {
   "cell_type": "markdown",
   "metadata": {},
   "source": [
    "\n",
    "* JobID: 11161798:\n",
    "  * Apparently this version of snakemake can not take in bash script in the arguement \"script:\". I got the following error:\n",
    "    * \"Unsupported script: Expecting either Python (.py), R (.R), RMarkdown (.Rmd) or Julia (.jl) script.\"\n",
    "\n",
    "  * I added the script path to \"params\" and changed the argument \"script\" to \"shell\". Going to try again."
   ]
  },
  {
   "cell_type": "markdown",
   "metadata": {},
   "source": [
    "* JobID: 11161965\n",
    "  * I made a mistake by giving the same output read file for the fr1 and fr2 slot in the in the shell section of the clean_raw_reads rule in the file readQC.smk. \n",
    "  * Made the required change and running again."
   ]
  },
  {
   "cell_type": "markdown",
   "metadata": {},
   "source": [
    "* JobID: 11162659\n",
    "  * For most of the samples, the adapter and phix removal worked. However, for some reason the temp fq file for sample 080913-2-mc isnt being created correctly or some other error is happening with it as snakemake is removing it and faulting out.\n",
    "  * I am troubleshooting now:\n",
    "    * Going to set up the rule to where it will create a log so I can use that to hopefully troubleshoot this sample."
   ]
  },
  {
   "cell_type": "markdown",
   "metadata": {},
   "source": [
    "* JobID: 11163418"
   ]
  },
  {
   "cell_type": "markdown",
   "metadata": {},
   "source": [
    "### Create script to remove host reads from the fastq files."
   ]
  },
  {
   "cell_type": "markdown",
   "metadata": {},
   "source": [
    "* While I am currently creating this script, it will not be able to be tested until bat1k has given me access to their data base.\n",
    "  * Script name: `host_read_removal.sh`\n",
    "  * path: `workflow/scripts/`"
   ]
  }
 ],
 "metadata": {
  "kernelspec": {
   "display_name": "python_work",
   "language": "python",
   "name": "python3"
  },
  "language_info": {
   "codemirror_mode": {
    "name": "ipython",
    "version": 3
   },
   "file_extension": ".py",
   "mimetype": "text/x-python",
   "name": "python",
   "nbconvert_exporter": "python",
   "pygments_lexer": "ipython3",
   "version": "3.12.2"
  }
 },
 "nbformat": 4,
 "nbformat_minor": 2
}
